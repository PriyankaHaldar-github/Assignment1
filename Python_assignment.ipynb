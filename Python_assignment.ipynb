{
 "cells": [
  {
   "cell_type": "code",
   "execution_count": 7,
   "id": "b9726469",
   "metadata": {},
   "outputs": [
    {
     "name": "stdout",
     "output_type": "stream",
     "text": [
      "Enter a number: 8\n",
      "Number is not prime\n"
     ]
    }
   ],
   "source": [
    "def prime (num):\n",
    "    if(num==1):\n",
    "        return False\n",
    "    for i in range(2,num):\n",
    "        if num%i==0:\n",
    "            return False\n",
    "        \n",
    "    return True\n",
    "num= int (input('Enter a number: '))\n",
    "b=prime(num)\n",
    "if(b):\n",
    "    print('Number is prime')\n",
    "else:\n",
    "    print('Number is not prime')\n",
    "         "
   ]
  },
  {
   "cell_type": "code",
   "execution_count": 8,
   "id": "712593c5",
   "metadata": {},
   "outputs": [
    {
     "name": "stdout",
     "output_type": "stream",
     "text": [
      "Enter a number: 5\n",
      "Factorial of 5 is : 120\n"
     ]
    }
   ],
   "source": [
    "def factorial(number):\n",
    "    fact=1\n",
    "    for i in range(number):\n",
    "        \n",
    "        fact=fact*(i+1)\n",
    "    \n",
    "    return fact\n",
    "\n",
    "number= int (input('Enter a number: '))\n",
    "\n",
    "print (\"Factorial of {} is : {}\".format(number,factorial(number)))"
   ]
  },
  {
   "cell_type": "code",
   "execution_count": 9,
   "id": "5e52d46f",
   "metadata": {},
   "outputs": [
    {
     "name": "stdout",
     "output_type": "stream",
     "text": [
      "Enter a string: Arora\n",
      "The string Arora is palindrome\n"
     ]
    }
   ],
   "source": [
    "def palindrome(str):\n",
    "    str1=\"\"\n",
    "    for i in str:\n",
    "        str1=i+str1\n",
    "    if (str.lower()==str1.lower()):\n",
    "        print(\"The string {} is palindrome\".format(str))\n",
    "    else:\n",
    "        print(\"The string {} is not palindrome\".format(str)) \n",
    "str= input('Enter a string: ')\n",
    "palindrome(str)"
   ]
  },
  {
   "cell_type": "code",
   "execution_count": 12,
   "id": "c516aa3c",
   "metadata": {},
   "outputs": [
    {
     "name": "stdout",
     "output_type": "stream",
     "text": [
      "Enter a string: sunset\n",
      "Count of each letter is:\n",
      "e -> 1\n",
      "u -> 1\n",
      "s -> 2\n",
      "t -> 1\n",
      "n -> 1\n"
     ]
    }
   ],
   "source": [
    "str= input('Enter a string: ')\n",
    "char_set=set(str.lower())\n",
    "dictionary = {}\n",
    "for char in char_set:\n",
    "    dictionary[char]=str.count(char)\n",
    "print('Count of each letter is:')\n",
    "for char in char_set:\n",
    "    print(char,'->',dictionary[char])"
   ]
  },
  {
   "cell_type": "code",
   "execution_count": 13,
   "id": "7cf7ee16",
   "metadata": {},
   "outputs": [
    {
     "name": "stdout",
     "output_type": "stream",
     "text": [
      "Enter the opposite 3\n",
      "Enter the adjacent 4\n",
      "The hypotenuse is 5.0\n"
     ]
    }
   ],
   "source": [
    "import math\n",
    "opposite= int (input('Enter the opposite '))\n",
    "adjacent = int (input('Enter the adjacent '))\n",
    "hypotenuse=math.sqrt(pow(opposite,2)+pow(adjacent,2))\n",
    "print ('The hypotenuse is {}'.format(hypotenuse))\n"
   ]
  },
  {
   "cell_type": "code",
   "execution_count": null,
   "id": "f76043c2",
   "metadata": {},
   "outputs": [],
   "source": []
  }
 ],
 "metadata": {
  "kernelspec": {
   "display_name": "Python 3",
   "language": "python",
   "name": "python3"
  },
  "language_info": {
   "codemirror_mode": {
    "name": "ipython",
    "version": 3
   },
   "file_extension": ".py",
   "mimetype": "text/x-python",
   "name": "python",
   "nbconvert_exporter": "python",
   "pygments_lexer": "ipython3",
   "version": "3.8.8"
  }
 },
 "nbformat": 4,
 "nbformat_minor": 5
}
